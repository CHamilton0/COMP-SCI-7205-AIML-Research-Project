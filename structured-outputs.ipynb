{
 "cells": [
  {
   "cell_type": "code",
   "execution_count": 6,
   "id": "ca84f72a",
   "metadata": {},
   "outputs": [],
   "source": [
    "from pydantic import BaseModel\n",
    "\n",
    "class Vector3(BaseModel):\n",
    "    x: float\n",
    "    y: float\n",
    "    z: float\n",
    "\n",
    "class SceneObject(BaseModel):\n",
    "    name: str\n",
    "    position: Vector3\n",
    "    size: Vector3\n",
    "\n",
    "class Scene(BaseModel):\n",
    "    objects: list[SceneObject]"
   ]
  },
  {
   "cell_type": "code",
   "execution_count": null,
   "id": "b92a52a8",
   "metadata": {},
   "outputs": [],
   "source": [
    "from openai import OpenAI\n",
    "\n",
    "client = OpenAI()\n",
    "\n",
    "response = client.responses.parse(\n",
    "    model=\"gpt-4o-2024-08-06\",\n",
    "    input=[\n",
    "        {\n",
    "            \"role\": \"system\",\n",
    "            \"content\": \"Imagine a scene based on the prompt with some objects in the scene. Extract the scene information.\",\n",
    "        },\n",
    "        {\n",
    "            \"role\": \"user\",\n",
    "            \"content\": \"Space\",\n",
    "        },\n",
    "    ],\n",
    "    text_format=Scene,\n",
    ")\n",
    "\n",
    "scene = response.output_parsed\n",
    "print(scene)"
   ]
  },
  {
   "cell_type": "code",
   "execution_count": 14,
   "id": "bc22ca7d",
   "metadata": {},
   "outputs": [],
   "source": [
    "scene_json = scene.model_dump_json(indent=4)\n",
    "with open(\"./Unity/AIML Research Project/Assets/scene.json\", \"w\") as scene_file:\n",
    "    scene_file.write(scene_json)"
   ]
  },
  {
   "cell_type": "code",
   "execution_count": 15,
   "id": "6fffda99",
   "metadata": {},
   "outputs": [
    {
     "name": "stdout",
     "output_type": "stream",
     "text": [
      "[+] Generating model for prompt: 'Astronaut'\n"
     ]
    },
    {
     "data": {
      "application/vnd.jupyter.widget-view+json": {
       "model_id": "6829df83caaf407f9ba500c889b00e2e",
       "version_major": 2,
       "version_minor": 0
      },
      "text/plain": [
       "  0%|          | 0/64 [00:00<?, ?it/s]"
      ]
     },
     "metadata": {},
     "output_type": "display_data"
    },
    {
     "name": "stdout",
     "output_type": "stream",
     "text": [
      "[+] Saving intermediate PLY to: /tmp/tmpgs7avhvt/mesh.ply\n"
     ]
    },
    {
     "name": "stderr",
     "output_type": "stream",
     "text": [
      "/home/chris/repos/COMP-SCI-7205-AIML-Research-Project/.venv/lib/python3.10/site-packages/shap_e/models/stf/renderer.py:286: UserWarning: exception rendering with PyTorch3D: No module named 'pytorch3d'\n",
      "  warnings.warn(f\"exception rendering with PyTorch3D: {exc}\")\n",
      "/home/chris/repos/COMP-SCI-7205-AIML-Research-Project/.venv/lib/python3.10/site-packages/shap_e/models/stf/renderer.py:287: UserWarning: falling back on native PyTorch renderer, which does not support full gradients\n",
      "  warnings.warn(\n"
     ]
    },
    {
     "name": "stdout",
     "output_type": "stream",
     "text": [
      "[+] Running Blender export script...\n",
      "Color management: using fallback mode for management\n",
      "Color management: Error could not find role data role.\n",
      "Blender 3.0.1\n",
      "Color management: scene view \"Filmic\" not found, setting default \"Standard\".\n",
      "/run/user/1000/gvfs/ non-existent directory\n",
      "Color management: scene view \"Filmic\" not found, setting default \"Standard\".\n",
      "\n",
      "Successfully imported '/tmp/tmpgs7avhvt/mesh.ply' in 0.447 sec\n",
      "'/usr/bin/3.0/python/lib/python3.10/site-packages/libextern_draco.so' does not exist, draco mesh compression not available, please add it or create environment variable BLENDER_EXTERN_DRACO_LIBRARY_PATH pointing to the folder\n",
      "11:15:42 | INFO: Starting glTF 2.0 export\n",
      "11:15:42 | INFO: Extracting primitive: mesh\n",
      "11:15:42 | INFO: Primitives created: 1\n",
      "11:15:42 | INFO: Finished glTF 2.0 export in 0.15267610549926758 s\n",
      "\n",
      "Exported Unity/AIML Research Project/Assets/GLB/astronaut.glb successfully.\n",
      "\n",
      "Blender quit\n",
      "[✓] Exported: Unity/AIML Research Project/Assets/GLB/astronaut.glb\n",
      "[+] Generating model for prompt: 'Space Station'\n"
     ]
    },
    {
     "data": {
      "application/vnd.jupyter.widget-view+json": {
       "model_id": "c40bca73997c43689b740df028826292",
       "version_major": 2,
       "version_minor": 0
      },
      "text/plain": [
       "  0%|          | 0/64 [00:00<?, ?it/s]"
      ]
     },
     "metadata": {},
     "output_type": "display_data"
    },
    {
     "name": "stdout",
     "output_type": "stream",
     "text": [
      "[+] Saving intermediate PLY to: /tmp/tmpsg7lqvpe/mesh.ply\n"
     ]
    },
    {
     "name": "stderr",
     "output_type": "stream",
     "text": [
      "/home/chris/repos/COMP-SCI-7205-AIML-Research-Project/.venv/lib/python3.10/site-packages/shap_e/models/stf/renderer.py:286: UserWarning: exception rendering with PyTorch3D: No module named 'pytorch3d'\n",
      "  warnings.warn(f\"exception rendering with PyTorch3D: {exc}\")\n",
      "/home/chris/repos/COMP-SCI-7205-AIML-Research-Project/.venv/lib/python3.10/site-packages/shap_e/models/stf/renderer.py:287: UserWarning: falling back on native PyTorch renderer, which does not support full gradients\n",
      "  warnings.warn(\n"
     ]
    },
    {
     "name": "stdout",
     "output_type": "stream",
     "text": [
      "[+] Running Blender export script...\n",
      "Color management: using fallback mode for management\n",
      "Color management: Error could not find role data role.\n",
      "Blender 3.0.1\n",
      "Color management: scene view \"Filmic\" not found, setting default \"Standard\".\n",
      "/run/user/1000/gvfs/ non-existent directory\n",
      "Color management: scene view \"Filmic\" not found, setting default \"Standard\".\n",
      "\n",
      "Successfully imported '/tmp/tmpsg7lqvpe/mesh.ply' in 0.787 sec\n",
      "'/usr/bin/3.0/python/lib/python3.10/site-packages/libextern_draco.so' does not exist, draco mesh compression not available, please add it or create environment variable BLENDER_EXTERN_DRACO_LIBRARY_PATH pointing to the folder\n",
      "11:16:33 | INFO: Starting glTF 2.0 export\n",
      "11:16:33 | INFO: Extracting primitive: mesh\n",
      "11:16:33 | INFO: Primitives created: 1\n",
      "11:16:33 | INFO: Finished glTF 2.0 export in 0.5705184936523438 s\n",
      "\n",
      "Exported Unity/AIML Research Project/Assets/GLB/space-station.glb successfully.\n",
      "\n",
      "Blender quit\n",
      "[✓] Exported: Unity/AIML Research Project/Assets/GLB/space-station.glb\n",
      "[+] Generating model for prompt: 'Space Shuttle'\n"
     ]
    },
    {
     "data": {
      "application/vnd.jupyter.widget-view+json": {
       "model_id": "d89359641f6b4cc78b75718388d15588",
       "version_major": 2,
       "version_minor": 0
      },
      "text/plain": [
       "  0%|          | 0/64 [00:00<?, ?it/s]"
      ]
     },
     "metadata": {},
     "output_type": "display_data"
    },
    {
     "name": "stdout",
     "output_type": "stream",
     "text": [
      "[+] Saving intermediate PLY to: /tmp/tmpw8_udvds/mesh.ply\n"
     ]
    },
    {
     "name": "stderr",
     "output_type": "stream",
     "text": [
      "/home/chris/repos/COMP-SCI-7205-AIML-Research-Project/.venv/lib/python3.10/site-packages/shap_e/models/stf/renderer.py:286: UserWarning: exception rendering with PyTorch3D: No module named 'pytorch3d'\n",
      "  warnings.warn(f\"exception rendering with PyTorch3D: {exc}\")\n",
      "/home/chris/repos/COMP-SCI-7205-AIML-Research-Project/.venv/lib/python3.10/site-packages/shap_e/models/stf/renderer.py:287: UserWarning: falling back on native PyTorch renderer, which does not support full gradients\n",
      "  warnings.warn(\n"
     ]
    },
    {
     "name": "stdout",
     "output_type": "stream",
     "text": [
      "[+] Running Blender export script...\n",
      "Color management: using fallback mode for management\n",
      "Color management: Error could not find role data role.\n",
      "Blender 3.0.1\n",
      "Color management: scene view \"Filmic\" not found, setting default \"Standard\".\n",
      "/run/user/1000/gvfs/ non-existent directory\n",
      "Color management: scene view \"Filmic\" not found, setting default \"Standard\".\n",
      "\n",
      "Successfully imported '/tmp/tmpw8_udvds/mesh.ply' in 0.461 sec\n",
      "'/usr/bin/3.0/python/lib/python3.10/site-packages/libextern_draco.so' does not exist, draco mesh compression not available, please add it or create environment variable BLENDER_EXTERN_DRACO_LIBRARY_PATH pointing to the folder\n",
      "11:17:17 | INFO: Starting glTF 2.0 export\n",
      "11:17:17 | INFO: Extracting primitive: mesh\n",
      "11:17:17 | INFO: Primitives created: 1\n",
      "11:17:17 | INFO: Finished glTF 2.0 export in 0.14284849166870117 s\n",
      "\n",
      "Exported Unity/AIML Research Project/Assets/GLB/space-shuttle.glb successfully.\n",
      "\n",
      "Blender quit\n",
      "[✓] Exported: Unity/AIML Research Project/Assets/GLB/space-shuttle.glb\n"
     ]
    }
   ],
   "source": [
    "import re\n",
    "import subprocess\n",
    "import tempfile\n",
    "from pathlib import Path\n",
    "\n",
    "import torch\n",
    "from shap_e.diffusion.gaussian_diffusion import diffusion_from_config\n",
    "from shap_e.diffusion.sample import sample_latents\n",
    "from shap_e.models.download import load_config, load_model\n",
    "from shap_e.util.notebooks import decode_latent_mesh\n",
    "\n",
    "device = torch.device(\"cuda\" if torch.cuda.is_available() else \"cpu\")\n",
    "xm = load_model(\"transmitter\", device=device)\n",
    "model = load_model(\"text300M\", device=device)\n",
    "diffusion = diffusion_from_config(load_config(\"diffusion\"))\n",
    "\n",
    "batch_size = 1  # this is the size of the models, higher values take longer to generate.\n",
    "guidance_scale = 15.0  # this is the scale of the guidance, higher values make the model look more like the prompt.\n",
    "\n",
    "output_dir = Path(\"./Unity/AIML Research Project/Assets/GLB\")\n",
    "output_dir.mkdir(parents=True, exist_ok=True)\n",
    "\n",
    "# Generate a safe filename from the prompt\n",
    "def slugify(text: str) -> str:\n",
    "    return re.sub(r\"[^a-zA-Z0-9\\-]+\", \"-\", text.strip().lower()).strip(\"-\")\n",
    "\n",
    "for object in scene.objects:\n",
    "    object_name = object.name\n",
    "\n",
    "    base_name = slugify(object_name)\n",
    "    output_file = output_dir / f\"{base_name}.glb\"\n",
    "\n",
    "    print(f\"[+] Generating model for prompt: '{object_name}'\")\n",
    "    latents = sample_latents(\n",
    "        batch_size=batch_size,\n",
    "        model=model,\n",
    "        diffusion=diffusion,\n",
    "        guidance_scale=guidance_scale,\n",
    "        model_kwargs=dict(texts=[object_name] * batch_size),\n",
    "        progress=True,\n",
    "        clip_denoised=True,\n",
    "        use_fp16=True,\n",
    "        use_karras=True,\n",
    "        karras_steps=64,\n",
    "        sigma_min=1e-3,\n",
    "        sigma_max=160,\n",
    "        s_churn=0,\n",
    "    )\n",
    "\n",
    "    with tempfile.TemporaryDirectory() as tmpdir:\n",
    "        tmp_path = Path(tmpdir)\n",
    "        ply_file = tmp_path / \"mesh.ply\"\n",
    "\n",
    "        print(f\"[+] Saving intermediate PLY to: {ply_file}\")\n",
    "        t = decode_latent_mesh(xm, latents[0]).tri_mesh()\n",
    "        with open(ply_file, \"wb\") as f:\n",
    "            t.write_ply(f)\n",
    "\n",
    "        # Call Blender to convert PLY → GLB\n",
    "        blender_script = Path(\"./Blender/export.py\").resolve()\n",
    "        command = [\n",
    "            \"blender\",\n",
    "            \"-b\",\n",
    "            \"-P\",\n",
    "            str(blender_script),\n",
    "            \"--\",\n",
    "            str(ply_file),\n",
    "            str(output_file),\n",
    "        ]\n",
    "        print(f\"[+] Running Blender export script...\")\n",
    "        subprocess.run(command, check=True)\n",
    "\n",
    "    print(f\"[✓] Exported: {output_file}\")"
   ]
  }
 ],
 "metadata": {
  "kernelspec": {
   "display_name": ".venv",
   "language": "python",
   "name": "python3"
  },
  "language_info": {
   "codemirror_mode": {
    "name": "ipython",
    "version": 3
   },
   "file_extension": ".py",
   "mimetype": "text/x-python",
   "name": "python",
   "nbconvert_exporter": "python",
   "pygments_lexer": "ipython3",
   "version": "3.10.12"
  }
 },
 "nbformat": 4,
 "nbformat_minor": 5
}
