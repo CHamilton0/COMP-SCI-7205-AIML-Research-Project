{
 "cells": [
  {
   "cell_type": "code",
   "execution_count": null,
   "id": "7a8b234a",
   "metadata": {},
   "outputs": [
    {
     "name": "stdout",
     "output_type": "stream",
     "text": [
      "Scene Description:\n",
      " A dense deciduous forest with towering trees of various species, including oak, maple, birch, and pine is visible at a vantage point on the ground level—perhaps from an old wooden stump near a gently flowing stream bordered by lush grass. The foliage forms multiple layers; canopies intertwining overhead create patches of dappled sunlight filtering through to nurture clusters of wildflowers beneath, such as bluebells and violets amidst the moss-covered trunks that stand tall with gnarly limbs. The forest floor is textured with a mix of pine needles, decaying leaves from maple trees, twigs scattered by recent winds, and soft earth leading to an intermittently dry creek bed where stones rest in muted greyscale tones against the darker surrounding soil. A clear day allows for vibrant hues—emerald green of coniferous needles, golden yellow leaves from autumn oaks nearby, while shadows cast by sunlight and foliage add dynamic contrast to this three-dimensional scene. \n",
      "\n",
      "Furthermore, the forest is home to a variety of wildlife that includes squirrels darting across branches with bushy tails flickering—visible only in motion as they scamper through mazes of bark and twigs toward hidden stashes of acorns. A family of deer grazes contentedly on the stream's edge where water reflects rippling sunlight, providing a sparkle amidst their dappled brown coats mingling with patchy light filtering through foliage above—a harmonious blend in this natural habitat that remains static and grounded without direct interaction or movement of any living organisms. \n",
      "\n",
      "The scene extends beyond the immediate forest boundary where clearings break up dense growth, inviting a more open viewpoint into expanses with scattered trees reaching towards one another at varying heights while dandelions float listlessly on air currents that carry them just above knee level to mingle freely among taller grass and wildflowers. \n",
      "\n",
      "In this tranquil setting, the natural elements stand still; however their intricate arrangements create an almost animate dance of light and texture—a beautifully crafted three-dimensional world captured in time where physical components play leading roles with no hint at abstraction or emotion to distract from pure visual experience.\n",
      "\n",
      "Objects in the Scene:\n",
      "- acorns (visible as they are scampered for)\n",
      "- birch trees\n",
      "- creek bed stones in greyscale tones against dark soil\n",
      "- dandelions floating on air currents\n",
      "- deer at the stream edge\n",
      "- flowing water\n",
      "- forest floor with pine needles, maple leaves, twigs, and earth\n",
      "- gnarled limbs of pines and oaks\n",
      "- hidden stashes under branches\n",
      "- lush grass\n",
      "- maple trees\n",
      "- moss on trunks\n",
      "- oak trees\n",
      "- pine trees\n",
      "- scattered trees breaking up the dense growth\n",
      "- squirrels' bushy tails\n",
      "- stream\n",
      "- sunlight patches through canopies\n",
      "- wildflowers (bluebells and violets) amidst mossy trunks\n",
      "- wooden stump\n"
     ]
    }
   ],
   "source": [
    "import ollama\n",
    "\n",
    "\n",
    "def generate_scene(scene_type: str):\n",
    "    prompt = (\n",
    "        f\"Describe a realistic 3D scene set in a {scene_type}. \"\n",
    "        \"Include physical, visible elements only—things that can be seen or touched. \"\n",
    "        \"Use specific nouns and details to make the scene reconstructable in 3D. \"\n",
    "        \"Avoid emotions or abstract concepts.\"\n",
    "    )\n",
    "    response = ollama.chat(model=\"phi3\", messages=[{\"role\": \"user\", \"content\": prompt}])\n",
    "    return response[\"message\"][\"content\"]\n",
    "\n",
    "\n",
    "def extract_objects(scene_description):\n",
    "    prompt = (\n",
    "        f\"Here is a scene description:\\n\\n{scene_description}\\n\\n\"\n",
    "        \"List all **visible, physical objects** mentioned in the description. \"\n",
    "        \"Only include specific **nouns or noun phrases** that represent tangible things that can be seen or placed in a 3D scene. \"\n",
    "        \"Do not include emotions, weather conditions, lighting, or descriptions of movement. \"\n",
    "        \"Do not include 'or' in the output, separate them into separate objects if needed.\"\n",
    "        \"Do not include extra information in brackets.\"\n",
    "        \"Keep the descriptions to a few words at most.\"\n",
    "        \"Format your answer as a bullet point list.\"\n",
    "    )\n",
    "    response = ollama.chat(model=\"phi3\", messages=[{\"role\": \"user\", \"content\": prompt}])\n",
    "    return response[\"message\"][\"content\"].split(\"\\n\")\n",
    "\n",
    "\n",
    "# --- Usage ---\n",
    "scene = generate_scene(\"forest\")\n",
    "print(\"Scene Description:\\n\", scene)\n",
    "\n",
    "objects = extract_objects(scene)\n",
    "\n",
    "\n",
    "def clean_object_list(raw_list):\n",
    "    return sorted(\n",
    "        set([obj.strip(\" -•\\t\\r\\n\").lower() for obj in raw_list if obj.strip()])\n",
    "    )\n",
    "\n",
    "\n",
    "print(\"\\nObjects in the Scene:\")\n",
    "for obj in clean_object_list(objects):\n",
    "    print(\"-\", obj.strip(\"- \"))"
   ]
  },
  {
   "cell_type": "code",
   "execution_count": 28,
   "id": "53acd361",
   "metadata": {},
   "outputs": [
    {
     "data": {
      "text/plain": [
       "['atm machine',\n",
       " 'bench',\n",
       " 'billboard',\n",
       " 'fire hydrant',\n",
       " 'shopping cart',\n",
       " 'streetlights',\n",
       " 'subway station',\n",
       " 'taxi stand',\n",
       " 'traffic light',\n",
       " 'trash bin']"
      ]
     },
     "execution_count": 28,
     "metadata": {},
     "output_type": "execute_result"
    }
   ],
   "source": [
    "prompt = (\n",
    "    f\"List 10 one word objects you might find in a: city\"\n",
    "    \"Format your answer as a bullet point list.\"\n",
    "    \"Do not include anything else in the result\"\n",
    ")\n",
    "response = ollama.chat(model=\"phi3\", messages=[{\"role\": \"user\", \"content\": prompt}])\n",
    "objects = sorted(\n",
    "    set(\n",
    "        [\n",
    "            obj.strip(\" -•\\t\\r\\n\").lower()\n",
    "            for obj in response[\"message\"][\"content\"].split(\"\\n\")\n",
    "            if obj.strip()\n",
    "        ]\n",
    "    )\n",
    ")\n",
    "objects"
   ]
  }
 ],
 "metadata": {
  "kernelspec": {
   "display_name": ".venv",
   "language": "python",
   "name": "python3"
  },
  "language_info": {
   "codemirror_mode": {
    "name": "ipython",
    "version": 3
   },
   "file_extension": ".py",
   "mimetype": "text/x-python",
   "name": "python",
   "nbconvert_exporter": "python",
   "pygments_lexer": "ipython3",
   "version": "3.10.12"
  }
 },
 "nbformat": 4,
 "nbformat_minor": 5
}
